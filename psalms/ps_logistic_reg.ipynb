{
 "cells": [
  {
   "cell_type": "code",
   "execution_count": 1,
   "id": "06e72366",
   "metadata": {},
   "outputs": [],
   "source": [
    "import pandas as pd\n",
    "import numpy as np\n",
    "import string\n",
    "import re\n",
    "\n",
    "import psalm_scraper\n",
    "import psalm_preprocessor as prp\n",
    "\n",
    "import nltk\n",
    "from nltk.corpus import stopwords\n",
    "from nltk.stem import PorterStemmer        # module for stemming"
   ]
  },
  {
   "cell_type": "code",
   "execution_count": 2,
   "id": "6e3001ed",
   "metadata": {},
   "outputs": [],
   "source": [
    "first = 1\n",
    "last = 150\n",
    "\n",
    "#get corpus\n",
    "ps_dict = psalm_scraper.create_ps_dict(first_psalm = first, last_psalm = last, verbose = False)"
   ]
  },
  {
   "cell_type": "code",
   "execution_count": 3,
   "id": "81a6e2e2",
   "metadata": {},
   "outputs": [],
   "source": [
    "#build frequencies\n",
    "psalms = list(ps_dict.values())\n",
    "outcomes_df = pd.read_csv('psalms_sentiment.csv')\n",
    "outcomes = np.array(outcomes_df['positive'])"
   ]
  },
  {
   "cell_type": "code",
   "execution_count": 4,
   "id": "2cfd5b4d",
   "metadata": {},
   "outputs": [],
   "source": [
    "freqs = prp.build_freqs(psalms, outcomes)"
   ]
  },
  {
   "cell_type": "code",
   "execution_count": 5,
   "id": "da15591b",
   "metadata": {},
   "outputs": [],
   "source": [
    "def extract_features(psalm, freqs, process_psalm=prp.process_psalm):\n",
    "    '''\n",
    "    Input: \n",
    "        tweet: a string containing one tweet\n",
    "        freqs: a dictionary corresponding to the frequencies of each tuple (word, label)\n",
    "    Output: \n",
    "        x: a feature vector of dimension (1,3)\n",
    "    '''\n",
    "    # process_tweet tokenizes, stems, and removes stopwords\n",
    "    word_l = process_psalm(psalm)\n",
    "    \n",
    "    # 3 elements for [bias, positive, negative] counts\n",
    "    x = np.zeros(2) \n",
    "        \n",
    "    # loop through each word in the list of words\n",
    "    for word in word_l:\n",
    "        \n",
    "        # increment the word count for the positive label 1\n",
    "        x[0] += freqs[(word,1)] if (word,1) in freqs else 0\n",
    "        \n",
    "        # increment the word count for the negative label 0\n",
    "        x[1] += freqs[(word,0)] if (word,0) in freqs else 0\n",
    "            \n",
    "    x = x[None, :]  # adding batch dimension for further processing\n",
    "    assert(x.shape == (1, 2))\n",
    "    return x"
   ]
  },
  {
   "cell_type": "code",
   "execution_count": 6,
   "id": "f6ae82b2",
   "metadata": {
    "scrolled": false
   },
   "outputs": [],
   "source": [
    "X = np.zeros((len(psalms), 2))\n",
    "for p in range(len(psalms)):\n",
    "    X[p, :] = extract_features(psalms[p], freqs)"
   ]
  },
  {
   "cell_type": "code",
   "execution_count": 7,
   "id": "665e19ff",
   "metadata": {},
   "outputs": [],
   "source": [
    "from sklearn.linear_model import LogisticRegression\n",
    "from sklearn.model_selection import train_test_split\n",
    "\n",
    "X_train, X_test, y_train, y_test = train_test_split(X, outcomes, test_size=0.2)"
   ]
  },
  {
   "cell_type": "code",
   "execution_count": 14,
   "id": "e110cd06",
   "metadata": {},
   "outputs": [],
   "source": [
    "psalm_classifier = LogisticRegression().fit(X_train, y_train)"
   ]
  },
  {
   "cell_type": "code",
   "execution_count": 15,
   "id": "9dcdb68e",
   "metadata": {},
   "outputs": [],
   "source": [
    "predictions = psalm_classifier.predict(X_test)"
   ]
  },
  {
   "cell_type": "code",
   "execution_count": 16,
   "id": "20dc31c7",
   "metadata": {},
   "outputs": [
    {
     "data": {
      "text/plain": [
       "array([1, 0, 1, 1, 0, 1, 1, 0, 0, 1, 0, 0, 1, 0, 0, 1, 0, 1, 1, 1, 1, 0,\n",
       "       1, 1, 0, 1, 1, 1, 0, 1], dtype=int64)"
      ]
     },
     "execution_count": 16,
     "metadata": {},
     "output_type": "execute_result"
    }
   ],
   "source": [
    "predictions"
   ]
  },
  {
   "cell_type": "code",
   "execution_count": 17,
   "id": "d4831c1c",
   "metadata": {},
   "outputs": [],
   "source": [
    "from sklearn.metrics import accuracy_score, f1_score, recall_score, roc_auc_score"
   ]
  },
  {
   "cell_type": "code",
   "execution_count": 18,
   "id": "ef70eb50",
   "metadata": {},
   "outputs": [
    {
     "name": "stdout",
     "output_type": "stream",
     "text": [
      "Overall accuracy: 0.8333333333333334\n",
      "F1 score: 0.8571428571428571\n",
      "Recall on positive psalms score: 0.8823529411764706\n",
      "ROC AUC score: 0.8257918552036198\n"
     ]
    }
   ],
   "source": [
    "print(f'Overall accuracy: {accuracy_score(y_test, predictions)}')\n",
    "print(f'F1 score: {f1_score(y_test, predictions)}')\n",
    "print(f'Recall on positive psalms score: {recall_score(y_test, predictions)}')\n",
    "print(f'ROC AUC score: {roc_auc_score(y_test, predictions)}')"
   ]
  },
  {
   "cell_type": "code",
   "execution_count": null,
   "id": "f6a2222c",
   "metadata": {},
   "outputs": [],
   "source": []
  }
 ],
 "metadata": {
  "kernelspec": {
   "display_name": "Python 3 (ipykernel)",
   "language": "python",
   "name": "python3"
  },
  "language_info": {
   "codemirror_mode": {
    "name": "ipython",
    "version": 3
   },
   "file_extension": ".py",
   "mimetype": "text/x-python",
   "name": "python",
   "nbconvert_exporter": "python",
   "pygments_lexer": "ipython3",
   "version": "3.9.7"
  }
 },
 "nbformat": 4,
 "nbformat_minor": 5
}
