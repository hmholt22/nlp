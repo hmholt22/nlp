{
 "cells": [
  {
   "cell_type": "code",
   "execution_count": 72,
   "id": "f6f3489a",
   "metadata": {},
   "outputs": [],
   "source": [
    "import pandas as pd\n",
    "import numpy as np\n",
    "import string\n",
    "import re\n",
    "import random\n",
    "\n",
    "import psalm_scraper as ps\n",
    "import psalm_preprocessor as prp\n",
    "\n",
    "import nltk\n",
    "from nltk.corpus import stopwords\n",
    "from nltk.stem import PorterStemmer"
   ]
  },
  {
   "cell_type": "code",
   "execution_count": 2,
   "id": "55707153",
   "metadata": {},
   "outputs": [],
   "source": [
    "first = 1\n",
    "last = 150\n",
    "\n",
    "#get corpus\n",
    "ps_dict = psalm_scraper.create_ps_dict(first_psalm = first, last_psalm = last, verbose = False)"
   ]
  },
  {
   "cell_type": "code",
   "execution_count": 27,
   "id": "97291717",
   "metadata": {},
   "outputs": [],
   "source": [
    "#build frequencies\n",
    "psalms = np.array(list(ps_dict.values()))\n",
    "outcomes_df = pd.read_csv('psalms_sentiment.csv')\n",
    "outcomes = np.array(outcomes_df['positive'])"
   ]
  },
  {
   "cell_type": "code",
   "execution_count": 42,
   "id": "a09c0b84",
   "metadata": {},
   "outputs": [],
   "source": [
    "## define training set\n",
    "random.seed(42)\n",
    "my_list = list(range(150))\n",
    "sample_size = int(len(my_list) * 0.8)\n",
    "\n",
    "# Get the random sample\n",
    "training_idx = random.sample(my_list, k=sample_size)\n",
    "test_idx = [x for x in range(150) if x not in training_idx]"
   ]
  },
  {
   "cell_type": "code",
   "execution_count": 36,
   "id": "4619aff6",
   "metadata": {},
   "outputs": [],
   "source": [
    "ps_train = psalms[training_idx]\n",
    "y_train = outcomes[training_idx]\n",
    "\n",
    "ps_test = psalms[test_idx]\n",
    "y_test = outcomes[test_idx]"
   ]
  },
  {
   "cell_type": "code",
   "execution_count": 30,
   "id": "f135f644",
   "metadata": {},
   "outputs": [],
   "source": [
    "freqs = prp.build_freqs(ps_train, y_train)"
   ]
  },
  {
   "cell_type": "code",
   "execution_count": 53,
   "id": "bd55ef2f",
   "metadata": {},
   "outputs": [],
   "source": [
    "d_pos = np.sum(y_train)\n",
    "d_neg = np.sum(1-y_train)"
   ]
  },
  {
   "cell_type": "code",
   "execution_count": 54,
   "id": "8d4e7aa2",
   "metadata": {},
   "outputs": [
    {
     "data": {
      "text/plain": [
       "0.4054651081081644"
      ]
     },
     "execution_count": 54,
     "metadata": {},
     "output_type": "execute_result"
    }
   ],
   "source": [
    "log_prior = np.log(d_pos/d_neg)\n",
    "log_prior"
   ]
  },
  {
   "cell_type": "code",
   "execution_count": 60,
   "id": "a3a8d23b",
   "metadata": {},
   "outputs": [],
   "source": [
    "vocab = []\n",
    "[vocab.append(x[0]) for x in set(freqs.keys()) if x not in vocab]\n",
    "\n",
    "#need set because freqs.keys() can contain duplicate words because of the way the freq dict is constructed\n",
    "V = len(set(vocab))"
   ]
  },
  {
   "cell_type": "code",
   "execution_count": 61,
   "id": "040d372e",
   "metadata": {},
   "outputs": [],
   "source": [
    "N_pos, N_neg = 0, 0\n",
    "for pair in freqs.keys():\n",
    "    if pair[1] > 0:\n",
    "\n",
    "        # Increment the number of positive words by the count for this (word, label) pair\n",
    "        N_pos += freqs[pair]\n",
    "\n",
    "    else:\n",
    "\n",
    "        # increment the number of negative words by the count for this (word,label) pair\n",
    "        N_neg += freqs[pair]\n"
   ]
  },
  {
   "cell_type": "code",
   "execution_count": 62,
   "id": "8758ccf9",
   "metadata": {},
   "outputs": [],
   "source": [
    "loglikelihood = {}\n",
    "for word in vocab:\n",
    "    # get the positive and negative frequency of the word\n",
    "    freq_pos = freqs[(word, 1.0)] if (word, 1.0) in freqs else 0\n",
    "    freq_neg = freqs[(word, 0.0)] if (word, 0.0) in freqs else 0\n",
    "\n",
    "    # calculate the probability that each word is positive, and negative\n",
    "    p_w_pos = (freq_pos + 1) / (N_pos + V)\n",
    "    p_w_neg = (freq_neg + 1) / (N_neg + V)\n",
    "\n",
    "    # calculate the log likelihood of the word\n",
    "    loglikelihood[word] = np.log(p_w_pos/p_w_neg)"
   ]
  },
  {
   "cell_type": "code",
   "execution_count": 63,
   "id": "32c0e7fd",
   "metadata": {},
   "outputs": [
    {
     "data": {
      "text/plain": [
       "2003"
      ]
     },
     "execution_count": 63,
     "metadata": {},
     "output_type": "execute_result"
    }
   ],
   "source": [
    "len(loglikelihood)"
   ]
  },
  {
   "cell_type": "code",
   "execution_count": 73,
   "id": "90ad6901",
   "metadata": {},
   "outputs": [],
   "source": [
    "def naive_bayes_predict(psalm, logprior, loglikelihood):\n",
    "    '''\n",
    "    Input:\n",
    "        psalm: a string\n",
    "        logprior: a number\n",
    "        loglikelihood: a dictionary of words mapping to numbers\n",
    "    Output:\n",
    "        p: the sum of all the logliklihoods of each word in the tweet (if found in the dictionary) + logprior (a number)\n",
    "\n",
    "    '''\n",
    "    # process the tweet to get a list of words\n",
    "    word_l = prp.process_psalm(psalm)\n",
    "\n",
    "    # initialize probability to zero\n",
    "    p = 0\n",
    "\n",
    "    # add the logprior\n",
    "    p += logprior\n",
    "\n",
    "    for word in word_l:\n",
    "\n",
    "        # check if the word exists in the loglikelihood dictionary\n",
    "        if word in loglikelihood:\n",
    "            # add the log likelihood of that word to the probability\n",
    "            p += loglikelihood[word]\n",
    "\n",
    "    return p"
   ]
  },
  {
   "cell_type": "code",
   "execution_count": 78,
   "id": "69f17580",
   "metadata": {},
   "outputs": [],
   "source": [
    "nb_pred = []\n",
    "for ps in ps_test:\n",
    "    p = naive_bayes_predict(ps, log_prior, loglikelihood)\n",
    "    \n",
    "    if p > 0:\n",
    "        prediction = 1\n",
    "    else:\n",
    "        prediction = 0\n",
    "    \n",
    "    nb_pred.append(prediction)"
   ]
  },
  {
   "cell_type": "code",
   "execution_count": 79,
   "id": "5247b0a2",
   "metadata": {},
   "outputs": [
    {
     "data": {
      "text/plain": [
       "[1,\n",
       " 0,\n",
       " 1,\n",
       " 0,\n",
       " 1,\n",
       " 0,\n",
       " 0,\n",
       " 0,\n",
       " 1,\n",
       " 1,\n",
       " 0,\n",
       " 1,\n",
       " 0,\n",
       " 1,\n",
       " 1,\n",
       " 1,\n",
       " 1,\n",
       " 1,\n",
       " 1,\n",
       " 1,\n",
       " 0,\n",
       " 1,\n",
       " 0,\n",
       " 1,\n",
       " 1,\n",
       " 1,\n",
       " 1,\n",
       " 1,\n",
       " 1,\n",
       " 1]"
      ]
     },
     "execution_count": 79,
     "metadata": {},
     "output_type": "execute_result"
    }
   ],
   "source": [
    "nb_pred"
   ]
  },
  {
   "cell_type": "code",
   "execution_count": 80,
   "id": "c910ea8a",
   "metadata": {},
   "outputs": [
    {
     "name": "stdout",
     "output_type": "stream",
     "text": [
      "Overall accuracy: 0.7333333333333333\n",
      "F1 score: 0.8\n",
      "Recall on positive psalms score: 0.8421052631578947\n",
      "ROC AUC score: 0.69377990430622\n"
     ]
    }
   ],
   "source": [
    "from sklearn.metrics import accuracy_score, f1_score, recall_score, roc_auc_score\n",
    "\n",
    "print(f'Overall accuracy: {accuracy_score(y_test, nb_pred)}')\n",
    "print(f'F1 score: {f1_score(y_test, nb_pred)}')\n",
    "print(f'Recall on positive psalms score: {recall_score(y_test, nb_pred)}')\n",
    "print(f'ROC AUC score: {roc_auc_score(y_test, nb_pred)}')"
   ]
  },
  {
   "cell_type": "code",
   "execution_count": null,
   "id": "1402fef7",
   "metadata": {},
   "outputs": [],
   "source": []
  }
 ],
 "metadata": {
  "kernelspec": {
   "display_name": "Python 3 (ipykernel)",
   "language": "python",
   "name": "python3"
  },
  "language_info": {
   "codemirror_mode": {
    "name": "ipython",
    "version": 3
   },
   "file_extension": ".py",
   "mimetype": "text/x-python",
   "name": "python",
   "nbconvert_exporter": "python",
   "pygments_lexer": "ipython3",
   "version": "3.9.7"
  }
 },
 "nbformat": 4,
 "nbformat_minor": 5
}
