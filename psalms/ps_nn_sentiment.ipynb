{
 "cells": [
  {
   "cell_type": "code",
   "execution_count": 71,
   "id": "efe1c383",
   "metadata": {},
   "outputs": [],
   "source": [
    "import os\n",
    "os.environ['TF_CPP_MIN_LOG_LEVEL'] = '3'\n",
    "\n",
    "import numpy as np\n",
    "import pandas as pd\n",
    "import tensorflow as tf\n",
    "import matplotlib.pyplot as plt\n",
    "from sklearn.decomposition import PCA\n",
    "import random\n",
    "\n",
    "import psalm_scraper\n",
    "import psalm_preprocessor as prp\n",
    "\n",
    "%matplotlib inline"
   ]
  },
  {
   "cell_type": "markdown",
   "id": "844e3785",
   "metadata": {},
   "source": [
    "First let's gather all the psalms as we've already done"
   ]
  },
  {
   "cell_type": "code",
   "execution_count": 72,
   "id": "0428ba3a",
   "metadata": {},
   "outputs": [],
   "source": [
    "first = 1\n",
    "last = 150\n",
    "\n",
    "#get corpus\n",
    "ps_dict = psalm_scraper.create_ps_dict(first_psalm = first, last_psalm = last, verbose = False)"
   ]
  },
  {
   "cell_type": "markdown",
   "id": "a4365ca9",
   "metadata": {},
   "source": [
    "Here we randomly sample 80% of the psalms into a training set, reserving the remaining 20% for a test set"
   ]
  },
  {
   "cell_type": "code",
   "execution_count": 73,
   "id": "ec09747c",
   "metadata": {},
   "outputs": [],
   "source": [
    "def sample_from_dict(d, sample=10):\n",
    "    train_keys = sorted(random.sample(list(d), sample))\n",
    "    test_keys = [x for x in list(d.keys()) if x not in train_keys]\n",
    "    train_values = [d[k] for k in train_keys]\n",
    "    test_values = [d[k] for k in test_keys]\n",
    "    return dict(zip(train_keys, train_values)), dict(zip(test_keys, test_values))\n",
    "\n",
    "train_psalms, test_psalms = sample_from_dict(ps_dict, sample = int(len(ps_dict)*0.8))"
   ]
  },
  {
   "cell_type": "code",
   "execution_count": 74,
   "id": "91eb2ed6",
   "metadata": {},
   "outputs": [
    {
     "name": "stdout",
     "output_type": "stream",
     "text": [
      "dict_keys([3, 4, 6, 7, 9, 10, 11, 12, 13, 14, 15, 16, 18, 19, 20, 21, 22, 23, 24, 25, 26, 27, 28, 29, 30, 31, 32, 33, 34, 35, 36, 37, 38, 40, 42, 43, 44, 45, 46, 47, 48, 50, 52, 53, 54, 55, 56, 58, 59, 60, 62, 64, 65, 67, 69, 70, 71, 72, 73, 74, 75, 76, 77, 78, 79, 80, 82, 83, 85, 86, 87, 88, 90, 91, 93, 94, 96, 97, 98, 99, 100, 101, 102, 103, 104, 105, 106, 108, 109, 111, 114, 115, 116, 117, 119, 120, 123, 124, 125, 126, 127, 128, 130, 133, 134, 135, 136, 137, 138, 139, 140, 141, 142, 143, 144, 145, 146, 148, 149, 150])\n",
      "dict_keys([1, 2, 5, 8, 17, 39, 41, 49, 51, 57, 61, 63, 66, 68, 81, 84, 89, 92, 95, 107, 110, 112, 113, 118, 121, 122, 129, 131, 132, 147])\n"
     ]
    }
   ],
   "source": [
    "print(train_psalms.keys())\n",
    "\n",
    "print(test_psalms.keys())"
   ]
  },
  {
   "cell_type": "markdown",
   "id": "10613e0d",
   "metadata": {},
   "source": [
    "Now let's gather the labels"
   ]
  },
  {
   "cell_type": "code",
   "execution_count": 75,
   "id": "e8595054",
   "metadata": {},
   "outputs": [],
   "source": [
    "outcomes_df = pd.read_csv('psalms_sentiment.csv')\n",
    "outcomes = np.array(outcomes_df['positive'])"
   ]
  },
  {
   "cell_type": "code",
   "execution_count": 76,
   "id": "17d8a7c4",
   "metadata": {},
   "outputs": [],
   "source": [
    "#need to use x-1 due to mismatch between psalm number and python indexing\n",
    "train_y = [outcomes[x-1] for x in list(train_psalms.keys())]\n",
    "test_y = [outcomes[x-1] for x in list(test_psalms.keys())]"
   ]
  },
  {
   "cell_type": "code",
   "execution_count": 77,
   "id": "cab2ae2a",
   "metadata": {},
   "outputs": [
    {
     "name": "stdout",
     "output_type": "stream",
     "text": [
      "[0, 1, 0, 0, 1, 0, 1, 0, 0, 0, 0, 1, 1, 1, 1, 1, 0, 1, 1, 1, 1, 1, 0, 1, 1, 0, 1, 1, 1, 0, 0, 0, 0, 0, 0, 0, 0, 1, 1, 1, 1, 0, 0, 0, 0, 0, 0, 0, 1, 0, 1, 0, 1, 1, 0, 0, 1, 1, 0, 0, 1, 1, 0, 0, 0, 0, 1, 0, 0, 1, 1, 0, 0, 1, 1, 1, 1, 1, 1, 1, 1, 0, 1, 1, 1, 1, 0, 1, 1, 1, 1, 1, 1, 1, 1, 0, 0, 0, 1, 1, 0, 1, 0, 1, 1, 1, 1, 0, 1, 1, 0, 0, 0, 0, 1, 1, 1, 1, 1, 1]\n",
      "[1, 0, 1, 1, 1, 0, 1, 0, 0, 1, 1, 0, 1, 1, 1, 1, 0, 1, 1, 1, 1, 1, 1, 1, 1, 1, 1, 0, 1, 1]\n"
     ]
    }
   ],
   "source": [
    "print(train_y)\n",
    "print(test_y)"
   ]
  },
  {
   "cell_type": "markdown",
   "id": "59b92622",
   "metadata": {},
   "source": [
    "Now we build our corpus and vocabulary on the training data. Recall we want to have the corpi in their cleaned and tokenized versions, so we're using `clean_corpus()`. Finally we're constructing our vocabulary based on the training data. "
   ]
  },
  {
   "cell_type": "code",
   "execution_count": 78,
   "id": "73abc927",
   "metadata": {},
   "outputs": [],
   "source": [
    "train_corpus = prp.clean_corpus(train_psalms)\n",
    "test_corpus = prp.clean_corpus(test_psalms)\n",
    "\n",
    "vocab = prp.build_vocabulary(train_corpus)"
   ]
  },
  {
   "cell_type": "code",
   "execution_count": 79,
   "id": "8b4a5ba4",
   "metadata": {},
   "outputs": [
    {
     "name": "stdout",
     "output_type": "stream",
     "text": [
      "The vocabulary contains: 1958 unique words\n"
     ]
    }
   ],
   "source": [
    "print(f'The vocabulary contains: {len(vocab)} unique words')"
   ]
  },
  {
   "cell_type": "code",
   "execution_count": 80,
   "id": "90bf4531",
   "metadata": {},
   "outputs": [],
   "source": [
    "#print(vocab)"
   ]
  },
  {
   "cell_type": "markdown",
   "id": "115b6370",
   "metadata": {},
   "source": [
    "## Convert psalms to tensors\n",
    "\n",
    "Because all the tensors have to be of the same length to be used in a neural network, we need to get the length of the longest tensor in order to pad the remaining tensors. In this case, the longest psalm (119) is much larger than the others. We can see it at the end of the list of the lengths of all the psalms (1034 tokens)."
   ]
  },
  {
   "cell_type": "code",
   "execution_count": 81,
   "id": "b33b7ffe",
   "metadata": {},
   "outputs": [
    {
     "name": "stdout",
     "output_type": "stream",
     "text": [
      "The length of the longest psalm is 1034 tokens.\n"
     ]
    }
   ],
   "source": [
    "def max_length(training_x, validation_x):\n",
    "    \"\"\"Computes the length of the longest tweet in the training and validation sets.\n",
    "\n",
    "    Args:\n",
    "        training_x (list): The tweets in the training set.\n",
    "        validation_x (list): The tweets in the validation set.\n",
    "\n",
    "    Returns:\n",
    "        int: Length of the longest tweet.\n",
    "    \"\"\"\n",
    "\n",
    "    max_len = np.max([len(t) for t in training_x + validation_x])\n",
    "    \n",
    "    return int(max_len)\n",
    "\n",
    "max_len = max_length(train_corpus, test_corpus)\n",
    "print(f'The length of the longest psalm is {max_len} tokens.')"
   ]
  },
  {
   "cell_type": "code",
   "execution_count": 82,
   "id": "99b218fb",
   "metadata": {},
   "outputs": [
    {
     "data": {
      "text/plain": [
       "[49,\n",
       " 66,\n",
       " 73,\n",
       " 134,\n",
       " 147,\n",
       " 151,\n",
       " 60,\n",
       " 66,\n",
       " 47,\n",
       " 58,\n",
       " 42,\n",
       " 81,\n",
       " 351,\n",
       " 124,\n",
       " 72,\n",
       " 88,\n",
       " 223,\n",
       " 52,\n",
       " 71,\n",
       " 138,\n",
       " 75,\n",
       " 128,\n",
       " 79,\n",
       " 94,\n",
       " 87,\n",
       " 204,\n",
       " 99,\n",
       " 149,\n",
       " 144,\n",
       " 220,\n",
       " 93,\n",
       " 294,\n",
       " 134,\n",
       " 170,\n",
       " 107,\n",
       " 48,\n",
       " 183,\n",
       " 153,\n",
       " 91,\n",
       " 66,\n",
       " 103,\n",
       " 159,\n",
       " 74,\n",
       " 59,\n",
       " 46,\n",
       " 174,\n",
       " 89,\n",
       " 96,\n",
       " 139,\n",
       " 90,\n",
       " 99,\n",
       " 79,\n",
       " 111,\n",
       " 62,\n",
       " 265,\n",
       " 46,\n",
       " 186,\n",
       " 175,\n",
       " 165,\n",
       " 177,\n",
       " 73,\n",
       " 85,\n",
       " 141,\n",
       " 514,\n",
       " 120,\n",
       " 143,\n",
       " 56,\n",
       " 121,\n",
       " 87,\n",
       " 129,\n",
       " 46,\n",
       " 121,\n",
       " 139,\n",
       " 98,\n",
       " 43,\n",
       " 138,\n",
       " 106,\n",
       " 89,\n",
       " 83,\n",
       " 74,\n",
       " 36,\n",
       " 75,\n",
       " 199,\n",
       " 142,\n",
       " 260,\n",
       " 294,\n",
       " 336,\n",
       " 93,\n",
       " 226,\n",
       " 72,\n",
       " 53,\n",
       " 103,\n",
       " 113,\n",
       " 16,\n",
       " 1034,\n",
       " 40,\n",
       " 35,\n",
       " 51,\n",
       " 45,\n",
       " 49,\n",
       " 52,\n",
       " 50,\n",
       " 45,\n",
       " 29,\n",
       " 22,\n",
       " 139,\n",
       " 193,\n",
       " 70,\n",
       " 75,\n",
       " 153,\n",
       " 101,\n",
       " 92,\n",
       " 55,\n",
       " 99,\n",
       " 137,\n",
       " 147,\n",
       " 80,\n",
       " 94,\n",
       " 68,\n",
       " 41,\n",
       " 49,\n",
       " 82,\n",
       " 95,\n",
       " 63,\n",
       " 126,\n",
       " 110,\n",
       " 85,\n",
       " 142,\n",
       " 140,\n",
       " 96,\n",
       " 56,\n",
       " 77,\n",
       " 144,\n",
       " 324,\n",
       " 117,\n",
       " 108,\n",
       " 353,\n",
       " 105,\n",
       " 92,\n",
       " 279,\n",
       " 63,\n",
       " 74,\n",
       " 55,\n",
       " 199,\n",
       " 44,\n",
       " 57,\n",
       " 49,\n",
       " 26,\n",
       " 125,\n",
       " 134]"
      ]
     },
     "execution_count": 82,
     "metadata": {},
     "output_type": "execute_result"
    }
   ],
   "source": [
    "[len(t) for t in train_corpus + test_corpus]"
   ]
  },
  {
   "cell_type": "code",
   "execution_count": 83,
   "id": "a5d675fe",
   "metadata": {},
   "outputs": [],
   "source": [
    "def padded_sequence(psalm, vocab_dict, max_len, unk_token='[UNK]'):\n",
    "    \"\"\"transform sequences of words into padded sequences of numbers\n",
    "\n",
    "    Args:\n",
    "        tweet (list): A single tweet encoded as a list of strings.\n",
    "        vocab_dict (dict): Vocabulary.\n",
    "        max_len (int): Length of the longest tweet.\n",
    "        unk_token (str, optional): Unknown token. Defaults to '[UNK]'.\n",
    "\n",
    "    Returns:\n",
    "        list: Padded tweet encoded as a list of int.\n",
    "    \"\"\"\n",
    "    \n",
    "    # Find the ID of the UNK token, to use it when you encounter a new word\n",
    "    unk_ID = vocab_dict[unk_token] \n",
    "    \n",
    "    # First convert the words to integers by looking up the vocab_dict\n",
    "    tensor = []\n",
    "    [tensor.append(vocab_dict[word]) if word in vocab_dict else tensor.append(unk_ID) for word in psalm]\n",
    "\n",
    "    # Then pad the tensor with zeroes up to the length max_len\n",
    "    padded_tensor = np.pad(tensor, (0, max_len - len(tensor)))\n",
    "\n",
    "    return list(padded_tensor)"
   ]
  },
  {
   "cell_type": "code",
   "execution_count": 84,
   "id": "e077b6a4",
   "metadata": {},
   "outputs": [],
   "source": [
    "#Creating padded lists to be turned into tensors\n",
    "train_psalm_padded = [padded_sequence(x, vocab, max_len) for x in train_corpus]\n",
    "test_psalm_padded = [padded_sequence(x, vocab, max_len) for x in test_corpus]"
   ]
  },
  {
   "cell_type": "markdown",
   "id": "a721f4cd",
   "metadata": {},
   "source": [
    "## Creating Tensorflow model\n",
    "\n",
    "Here we create a standard sequential tensorflow NN model with an embedding layer followed by a pooling layer, and finally a dense layer with sigmoid activation for the final prediction step."
   ]
  },
  {
   "cell_type": "code",
   "execution_count": 85,
   "id": "bf80dc5f",
   "metadata": {},
   "outputs": [],
   "source": [
    "def create_model(num_words, embedding_dim, max_len):\n",
    "    \"\"\"\n",
    "    Creates a text classifier model\n",
    "    \n",
    "    Args:\n",
    "        num_words (int): size of the vocabulary for the Embedding layer input\n",
    "        embedding_dim (int): dimensionality of the Embedding layer output\n",
    "        max_len (int): length of the input sequences\n",
    "    \n",
    "    Returns:\n",
    "        model (tf.keras Model): the text classifier model\n",
    "    \"\"\"\n",
    "    \n",
    "    tf.random.set_seed(123)\n",
    "        \n",
    "    model = tf.keras.Sequential([ \n",
    "        tf.keras.layers.Embedding(num_words, embedding_dim, input_length=max_len),\n",
    "        tf.keras.layers.GlobalAveragePooling1D(),\n",
    "        tf.keras.layers.Dense(units = 1, activation = 'sigmoid')\n",
    "    ]) \n",
    "    \n",
    "    model.compile(loss='binary_crossentropy',\n",
    "                  optimizer='adam',\n",
    "                  metrics=['accuracy'])\n",
    "\n",
    "\n",
    "    return model"
   ]
  },
  {
   "cell_type": "code",
   "execution_count": 86,
   "id": "5d33be19",
   "metadata": {},
   "outputs": [],
   "source": [
    "num_words = len(vocab)\n",
    "model = create_model(num_words=num_words, embedding_dim=4, max_len=max_len)"
   ]
  },
  {
   "cell_type": "code",
   "execution_count": 94,
   "id": "6f441ce2",
   "metadata": {},
   "outputs": [
    {
     "name": "stdout",
     "output_type": "stream",
     "text": [
      "The data is prepared for training!\n",
      "\n",
      "Training:\n",
      "Epoch 1/20\n",
      "4/4 [==============================] - 0s 35ms/step - loss: 0.6731 - accuracy: 0.5667 - val_loss: 0.6281 - val_accuracy: 0.7667\n",
      "Epoch 2/20\n",
      "4/4 [==============================] - 0s 19ms/step - loss: 0.6730 - accuracy: 0.5667 - val_loss: 0.6276 - val_accuracy: 0.7667\n",
      "Epoch 3/20\n",
      "4/4 [==============================] - 0s 20ms/step - loss: 0.6726 - accuracy: 0.5667 - val_loss: 0.6278 - val_accuracy: 0.7667\n",
      "Epoch 4/20\n",
      "4/4 [==============================] - 0s 21ms/step - loss: 0.6725 - accuracy: 0.5667 - val_loss: 0.6281 - val_accuracy: 0.7667\n",
      "Epoch 5/20\n",
      "4/4 [==============================] - 0s 21ms/step - loss: 0.6722 - accuracy: 0.5667 - val_loss: 0.6278 - val_accuracy: 0.7667\n",
      "Epoch 6/20\n",
      "4/4 [==============================] - 0s 21ms/step - loss: 0.6721 - accuracy: 0.5667 - val_loss: 0.6280 - val_accuracy: 0.7667\n",
      "Epoch 7/20\n",
      "4/4 [==============================] - 0s 22ms/step - loss: 0.6718 - accuracy: 0.5667 - val_loss: 0.6278 - val_accuracy: 0.7667\n",
      "Epoch 8/20\n",
      "4/4 [==============================] - 0s 21ms/step - loss: 0.6716 - accuracy: 0.5667 - val_loss: 0.6273 - val_accuracy: 0.7667\n",
      "Epoch 9/20\n",
      "4/4 [==============================] - 0s 21ms/step - loss: 0.6714 - accuracy: 0.5667 - val_loss: 0.6271 - val_accuracy: 0.7667\n",
      "Epoch 10/20\n",
      "4/4 [==============================] - 0s 21ms/step - loss: 0.6711 - accuracy: 0.5667 - val_loss: 0.6271 - val_accuracy: 0.7667\n",
      "Epoch 11/20\n",
      "4/4 [==============================] - 0s 21ms/step - loss: 0.6710 - accuracy: 0.5667 - val_loss: 0.6272 - val_accuracy: 0.7667\n",
      "Epoch 12/20\n",
      "4/4 [==============================] - 0s 20ms/step - loss: 0.6707 - accuracy: 0.5667 - val_loss: 0.6272 - val_accuracy: 0.7667\n",
      "Epoch 13/20\n",
      "4/4 [==============================] - 0s 24ms/step - loss: 0.6705 - accuracy: 0.5667 - val_loss: 0.6271 - val_accuracy: 0.7667\n",
      "Epoch 14/20\n",
      "4/4 [==============================] - 0s 22ms/step - loss: 0.6703 - accuracy: 0.5667 - val_loss: 0.6269 - val_accuracy: 0.7667\n",
      "Epoch 15/20\n",
      "4/4 [==============================] - 0s 23ms/step - loss: 0.6701 - accuracy: 0.5667 - val_loss: 0.6264 - val_accuracy: 0.7667\n",
      "Epoch 16/20\n",
      "4/4 [==============================] - 0s 20ms/step - loss: 0.6698 - accuracy: 0.5667 - val_loss: 0.6263 - val_accuracy: 0.7667\n",
      "Epoch 17/20\n",
      "4/4 [==============================] - 0s 20ms/step - loss: 0.6696 - accuracy: 0.5667 - val_loss: 0.6263 - val_accuracy: 0.7667\n",
      "Epoch 18/20\n",
      "4/4 [==============================] - 0s 19ms/step - loss: 0.6694 - accuracy: 0.5667 - val_loss: 0.6257 - val_accuracy: 0.7667\n",
      "Epoch 19/20\n",
      "4/4 [==============================] - 0s 20ms/step - loss: 0.6693 - accuracy: 0.5667 - val_loss: 0.6262 - val_accuracy: 0.7667\n",
      "Epoch 20/20\n",
      "4/4 [==============================] - 0s 21ms/step - loss: 0.6689 - accuracy: 0.5667 - val_loss: 0.6257 - val_accuracy: 0.7667\n"
     ]
    }
   ],
   "source": [
    "# Prepare the data\n",
    "train_x_prepared = np.array(train_psalm_padded)\n",
    "val_x_prepared = np.array(test_psalm_padded)\n",
    "\n",
    "train_y_prepared = np.array(train_y)\n",
    "val_y_prepared = np.array(test_y)\n",
    "\n",
    "print('The data is prepared for training!\\n')\n",
    "\n",
    "# Fit the model\n",
    "print('Training:')\n",
    "history = model.fit(train_x_prepared, train_y_prepared, epochs=20, validation_data=(val_x_prepared, val_y_prepared))"
   ]
  },
  {
   "cell_type": "code",
   "execution_count": 91,
   "id": "244e50ad",
   "metadata": {},
   "outputs": [
    {
     "data": {
      "image/png": "[encoded data removed]",
      "text/plain": [
       "<Figure size 432x288 with 1 Axes>"
      ]
     },
     "metadata": {
      "needs_background": "light"
     },
     "output_type": "display_data"
    },
    {
     "data": {
      "image/png": "[encoded data removed]",
      "text/plain": [
       "<Figure size 432x288 with 1 Axes>"
      ]
     },
     "metadata": {
      "needs_background": "light"
     },
     "output_type": "display_data"
    }
   ],
   "source": [
    "def plot_metrics(history, metric):\n",
    "    plt.plot(history.history[metric])\n",
    "    plt.plot(history.history[f'val_{metric}'])\n",
    "    plt.xlabel(\"Epochs\")\n",
    "    plt.ylabel(metric.title())\n",
    "    plt.legend([metric, f'val_{metric}'])\n",
    "    plt.show()\n",
    "    \n",
    "plot_metrics(history, \"accuracy\")\n",
    "plot_metrics(history, \"loss\")"
   ]
  },
  {
   "cell_type": "code",
   "execution_count": 93,
   "id": "128f366c",
   "metadata": {},
   "outputs": [
    {
     "name": "stdout",
     "output_type": "stream",
     "text": [
      "1/1 [==============================] - 0s 34ms/step\n"
     ]
    },
    {
     "data": {
      "text/plain": [
       "array([[0.56935817],\n",
       "       [0.5686971 ],\n",
       "       [0.5672718 ],\n",
       "       [0.5706433 ],\n",
       "       [0.56362844],\n",
       "       [0.5688837 ],\n",
       "       [0.5683658 ],\n",
       "       [0.5704046 ],\n",
       "       [0.5667924 ],\n",
       "       [0.57199776]], dtype=float32)"
      ]
     },
     "execution_count": 93,
     "metadata": {},
     "output_type": "execute_result"
    }
   ],
   "source": [
    "# Prepare an example with 10 positive and 10 negative tweets.\n",
    "example_for_prediction = np.append(val_x_prepared[0:5], val_x_prepared[-5:], axis=0)\n",
    "\n",
    "# Make a prediction on the tweets.\n",
    "model.predict(example_for_prediction)"
   ]
  },
  {
   "cell_type": "code",
   "execution_count": null,
   "id": "79a4ca50",
   "metadata": {},
   "outputs": [],
   "source": []
  }
 ],
 "metadata": {
  "kernelspec": {
   "display_name": "Python 3 (ipykernel)",
   "language": "python",
   "name": "python3"
  },
  "language_info": {
   "codemirror_mode": {
    "name": "ipython",
    "version": 3
   },
   "file_extension": ".py",
   "mimetype": "text/x-python",
   "name": "python",
   "nbconvert_exporter": "python",
   "pygments_lexer": "ipython3",
   "version": "3.9.7"
  }
 },
 "nbformat": 4,
 "nbformat_minor": 5
}
