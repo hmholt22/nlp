{
 "cells": [
  {
   "cell_type": "code",
   "execution_count": 1,
   "id": "af601d32",
   "metadata": {},
   "outputs": [],
   "source": [
    "import pandas as pd\n",
    "import numpy as np"
   ]
  },
  {
   "cell_type": "code",
   "execution_count": 2,
   "id": "5462ebd0",
   "metadata": {},
   "outputs": [
    {
     "data": {
      "text/plain": [
       "5.916079783099616"
      ]
     },
     "execution_count": 2,
     "metadata": {},
     "output_type": "execute_result"
    }
   ],
   "source": [
    "a = np.array([1, 2, 3])\n",
    "b= np.array([4, 7, 2])\n",
    "np.linalg.norm(a-b)"
   ]
  },
  {
   "cell_type": "code",
   "execution_count": 4,
   "id": "5e86f69f",
   "metadata": {},
   "outputs": [],
   "source": [
    "c = np.array([3, 1, 4])"
   ]
  },
  {
   "cell_type": "code",
   "execution_count": 5,
   "id": "30afc153",
   "metadata": {},
   "outputs": [
    {
     "name": "stdout",
     "output_type": "stream",
     "text": [
      "2.449489742783178\n",
      "6.4031242374328485\n"
     ]
    }
   ],
   "source": [
    "print(np.linalg.norm(a-c))\n",
    "print(np.linalg.norm(b-c))"
   ]
  },
  {
   "cell_type": "code",
   "execution_count": 6,
   "id": "9a743fec",
   "metadata": {},
   "outputs": [
    {
     "data": {
      "text/plain": [
       "0.08512565307587484"
      ]
     },
     "execution_count": 6,
     "metadata": {},
     "output_type": "execute_result"
    }
   ],
   "source": [
    "A = np.array([1, 0, -1])\n",
    "B = np.array([2, 8, 1])\n",
    "\n",
    "num = np.dot(A, B)\n",
    "denom = np.linalg.norm(A)*np.linalg.norm(B)\n",
    "\n",
    "num/denom"
   ]
  },
  {
   "cell_type": "code",
   "execution_count": 7,
   "id": "c76b1cc4",
   "metadata": {},
   "outputs": [],
   "source": [
    "def cos_sim(A, B):\n",
    "    A = np.array(A)\n",
    "    B = np.array(B)\n",
    "    \n",
    "    num = np.dot(A, B)\n",
    "    denom = np.linalg.norm(A)*np.linalg.norm(B)\n",
    "    \n",
    "    return num/denom"
   ]
  },
  {
   "cell_type": "code",
   "execution_count": 9,
   "id": "7d525484",
   "metadata": {},
   "outputs": [],
   "source": [
    "usa = [5, 6]\n",
    "washington = [10, 5]\n",
    "\n",
    "ankara = [9, 1]\n",
    "\n",
    "turkey = [3, 1]\n",
    "russia = [5, 5]\n",
    "japan = [4, 3]"
   ]
  },
  {
   "cell_type": "code",
   "execution_count": 10,
   "id": "d89a6de3",
   "metadata": {},
   "outputs": [
    {
     "data": {
      "text/plain": [
       "0.9161573349021891"
      ]
     },
     "execution_count": 10,
     "metadata": {},
     "output_type": "execute_result"
    }
   ],
   "source": [
    "cos_sim(usa, washington)"
   ]
  },
  {
   "cell_type": "code",
   "execution_count": 15,
   "id": "f5e7b47a",
   "metadata": {},
   "outputs": [
    {
     "name": "stdout",
     "output_type": "stream",
     "text": [
      "0: 0.06164507917522022\n",
      "1: 0.13528852545915893\n",
      "2: 0.05479143151838606\n"
     ]
    }
   ],
   "source": [
    "for lab, i in enumerate([turkey, russia, japan]):\n",
    "    \n",
    "    print(f'{lab}: {abs(cos_sim(i, ankara) - cos_sim(usa, washington))}')"
   ]
  },
  {
   "cell_type": "code",
   "execution_count": null,
   "id": "a301561f",
   "metadata": {},
   "outputs": [],
   "source": []
  }
 ],
 "metadata": {
  "kernelspec": {
   "display_name": "Python 3 (ipykernel)",
   "language": "python",
   "name": "python3"
  },
  "language_info": {
   "codemirror_mode": {
    "name": "ipython",
    "version": 3
   },
   "file_extension": ".py",
   "mimetype": "text/x-python",
   "name": "python",
   "nbconvert_exporter": "python",
   "pygments_lexer": "ipython3",
   "version": "3.9.7"
  }
 },
 "nbformat": 4,
 "nbformat_minor": 5
}
